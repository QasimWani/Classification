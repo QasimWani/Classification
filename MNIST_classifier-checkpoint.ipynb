{
 "cells": [
  {
   "cell_type": "markdown",
   "metadata": {},
   "source": [
    "### Classic Neural Network for recognizing MNIST Handwritten Digits\n",
    "#### Implementation using 2 layer NN using Logistic Regression"
   ]
  },
  {
   "cell_type": "code",
   "execution_count": 1,
   "metadata": {},
   "outputs": [],
   "source": [
    "import numpy as np\n",
    "import pandas as pd\n",
    "from PIL import Image\n",
    "import matplotlib.pyplot as plt\n",
    "from os import listdir\n",
    "from os.path import isfile, join"
   ]
  },
  {
   "cell_type": "markdown",
   "metadata": {},
   "source": [
    "#### Step 1: import the data"
   ]
  },
  {
   "cell_type": "code",
   "execution_count": 2,
   "metadata": {},
   "outputs": [],
   "source": [
    "df_train = pd.read_csv(\"train.csv\")"
   ]
  },
  {
   "cell_type": "code",
   "execution_count": 3,
   "metadata": {},
   "outputs": [
    {
     "data": {
      "text/html": [
       "<div>\n",
       "<style scoped>\n",
       "    .dataframe tbody tr th:only-of-type {\n",
       "        vertical-align: middle;\n",
       "    }\n",
       "\n",
       "    .dataframe tbody tr th {\n",
       "        vertical-align: top;\n",
       "    }\n",
       "\n",
       "    .dataframe thead th {\n",
       "        text-align: right;\n",
       "    }\n",
       "</style>\n",
       "<table border=\"1\" class=\"dataframe\">\n",
       "  <thead>\n",
       "    <tr style=\"text-align: right;\">\n",
       "      <th></th>\n",
       "      <th>filename</th>\n",
       "      <th>label</th>\n",
       "    </tr>\n",
       "  </thead>\n",
       "  <tbody>\n",
       "    <tr>\n",
       "      <th>0</th>\n",
       "      <td>0.png</td>\n",
       "      <td>4</td>\n",
       "    </tr>\n",
       "    <tr>\n",
       "      <th>1</th>\n",
       "      <td>1.png</td>\n",
       "      <td>9</td>\n",
       "    </tr>\n",
       "    <tr>\n",
       "      <th>2</th>\n",
       "      <td>2.png</td>\n",
       "      <td>1</td>\n",
       "    </tr>\n",
       "    <tr>\n",
       "      <th>3</th>\n",
       "      <td>3.png</td>\n",
       "      <td>7</td>\n",
       "    </tr>\n",
       "    <tr>\n",
       "      <th>4</th>\n",
       "      <td>4.png</td>\n",
       "      <td>3</td>\n",
       "    </tr>\n",
       "  </tbody>\n",
       "</table>\n",
       "</div>"
      ],
      "text/plain": [
       "  filename  label\n",
       "0    0.png      4\n",
       "1    1.png      9\n",
       "2    2.png      1\n",
       "3    3.png      7\n",
       "4    4.png      3"
      ]
     },
     "execution_count": 3,
     "metadata": {},
     "output_type": "execute_result"
    }
   ],
   "source": [
    "df_train.head()"
   ]
  },
  {
   "cell_type": "markdown",
   "metadata": {},
   "source": [
    "#### Vectorize Training image"
   ]
  },
  {
   "cell_type": "code",
   "execution_count": 4,
   "metadata": {},
   "outputs": [],
   "source": [
    "def get_image(filename):\n",
    "    img = Image.open(filename)\n",
    "    img_data = np.array(img)\n",
    "    img.close()\n",
    "    return img_data"
   ]
  },
  {
   "cell_type": "code",
   "execution_count": 5,
   "metadata": {},
   "outputs": [],
   "source": [
    "TABLE_TRAIN = np.array(df_train.iloc[0:-1])"
   ]
  },
  {
   "cell_type": "code",
   "execution_count": 6,
   "metadata": {},
   "outputs": [],
   "source": [
    "def extract_img(path, img_tag):\n",
    "    arr = []\n",
    "    for x in img_tag:\n",
    "        arr.append(get_image(path + x))\n",
    "    return np.array(arr)"
   ]
  },
  {
   "cell_type": "code",
   "execution_count": 7,
   "metadata": {},
   "outputs": [],
   "source": [
    "X_train, Y_train = TABLE_TRAIN[:, np.r_[0]], TABLE_TRAIN[:, np.r_[1]]"
   ]
  },
  {
   "cell_type": "code",
   "execution_count": 8,
   "metadata": {},
   "outputs": [],
   "source": [
    "data_train = extract_img(\"Images/train/\", X_train.flatten('C'))"
   ]
  },
  {
   "cell_type": "code",
   "execution_count": 9,
   "metadata": {},
   "outputs": [],
   "source": [
    "def ndarray_proccessing(img_raw_data_np):\n",
    "    img_standarize = []\n",
    "    for img in img_raw_data_np:\n",
    "        img_flatten = img.flatten('F').reshape(img.flatten('F').shape[0], -1)\n",
    "        img_standarize.append((img_flatten - img_flatten.mean()) / img_flatten.var()**0.5) ### Z-score standarization\n",
    "    return np.squeeze(np.array(img_standarize))"
   ]
  },
  {
   "cell_type": "code",
   "execution_count": 10,
   "metadata": {},
   "outputs": [],
   "source": [
    "def normalize_Y(Y_data, vof):\n",
    "    Y_data[Y_data != vof] = 0\n",
    "    Y_data[Y_data == vof] = 1\n",
    "    return Y_data"
   ]
  },
  {
   "cell_type": "code",
   "execution_count": 11,
   "metadata": {},
   "outputs": [],
   "source": [
    "X_train = ndarray_proccessing(data_train)"
   ]
  },
  {
   "cell_type": "code",
   "execution_count": 12,
   "metadata": {},
   "outputs": [],
   "source": [
    "X_train, Y_train = X_train.T, Y_train.T"
   ]
  },
  {
   "cell_type": "code",
   "execution_count": 13,
   "metadata": {},
   "outputs": [],
   "source": [
    "def sigmoid(Z):\n",
    "    return 1/(1 + np.exp(-Z))"
   ]
  },
  {
   "cell_type": "code",
   "execution_count": 14,
   "metadata": {},
   "outputs": [],
   "source": [
    "def initialize_with_zeros(dim):\n",
    "    b = 0\n",
    "    w = np.zeros((dim, 1))\n",
    "    return w, b"
   ]
  },
  {
   "cell_type": "code",
   "execution_count": 15,
   "metadata": {},
   "outputs": [],
   "source": [
    "def propogation(w, b, X, Y):\n",
    "    Z = np.dot(w.T, X) + b\n",
    "    A = sigmoid(Z)\n",
    "    mParam = X.shape[1]\n",
    "    J = cost_function(mParam, A, Y)\n",
    "    gradients = back_propogation(w, A, X, Y)\n",
    "    return np.squeeze(J), gradients"
   ]
  },
  {
   "cell_type": "code",
   "execution_count": 16,
   "metadata": {},
   "outputs": [],
   "source": [
    "def cost_function(mParam, y_hat, y):\n",
    "    return (-1/mParam)*(np.sum(loss_function(y_hat, y)))"
   ]
  },
  {
   "cell_type": "code",
   "execution_count": 17,
   "metadata": {},
   "outputs": [],
   "source": [
    "def loss_function(y_hat, y):\n",
    "    return (y*np.log(y_hat) + (1-y)*np.log(1-y_hat))"
   ]
  },
  {
   "cell_type": "code",
   "execution_count": 18,
   "metadata": {},
   "outputs": [],
   "source": [
    "def back_propogation(w, A, X, Y):\n",
    "    mParam = X.shape[1]\n",
    "    dw = (1/mParam)*np.dot(X, (A - Y).T)\n",
    "    db = (1/mParam)*np.sum(A - Y)\n",
    "    \n",
    "    return {\"dw\" : dw, \"db\" : db} #return updated gradients"
   ]
  },
  {
   "cell_type": "code",
   "execution_count": 19,
   "metadata": {},
   "outputs": [],
   "source": [
    "def optimize(w, b, X, Y, num_iterations, learning_rate, isPlot=False): #gradient descent\n",
    "    costs = []\n",
    "    deltas = []\n",
    "    temp = 0\n",
    "    for i in range(num_iterations):\n",
    "        cost, gradients = propogation(w, b, X, Y)\n",
    "        dw = gradients['dw']\n",
    "        db = gradients['db']\n",
    "        w -= learning_rate*dw\n",
    "        b -= learning_rate*db\n",
    "        costs.append(cost)\n",
    "        deltas.append(cost - temp)\n",
    "        temp = cost\n",
    "    if(isPlot):\n",
    "        plt.plot(deltas, linestyle='dashed', label='Cost Delta')\n",
    "        plt.plot(costs, label='Overall Cost')\n",
    "        plt.xlabel(\"# Iterations\")\n",
    "        plt.ylabel(\"Overall Cost\")\n",
    "        plt.legend()\n",
    "        plt.show()\n",
    "    \n",
    "    params = {\"w\": w,\n",
    "              \"b\": b}\n",
    "    \n",
    "    grads = {\"dw\": dw,\n",
    "             \"db\": db}\n",
    "    return params, grads, np.array(costs)"
   ]
  },
  {
   "cell_type": "code",
   "execution_count": null,
   "metadata": {},
   "outputs": [],
   "source": []
  },
  {
   "cell_type": "code",
   "execution_count": 20,
   "metadata": {},
   "outputs": [],
   "source": [
    "def calculate_sig_score(w, b, X):\n",
    "    w = w.reshape(X.shape[0], 1)\n",
    "    A = np.dot(w.T, X) + b\n",
    "    Z = sigmoid(A)\n",
    "    return Z"
   ]
  },
  {
   "cell_type": "code",
   "execution_count": 21,
   "metadata": {},
   "outputs": [],
   "source": [
    "def binaryclass_model(X, Y, val_of_interest, num_iterations, learning_rate, isPlot):\n",
    "    #parameter initialization\n",
    "    w,b = initialize_with_zeros(X.shape[0])\n",
    "    Y_norm = normalize_Y(np.copy(Y), val_of_interest)\n",
    "    #perform gradient descent using forward & backward propogation\n",
    "    params, grads, costs = optimize(w, b, X, Y_norm, num_iterations, learning_rate, isPlot)\n",
    "    w = params['w']\n",
    "    b = params['b']\n",
    "    Y_prediction_train = calculate_sig_score(w, b, X)\n",
    "    \n",
    "    return w, b, costs, Y_prediction_train"
   ]
  },
  {
   "cell_type": "code",
   "execution_count": 22,
   "metadata": {},
   "outputs": [
    {
     "data": {
      "image/png": "[encoded data removed]",
      "text/plain": [
       "<Figure size 432x288 with 1 Axes>"
      ]
     },
     "metadata": {
      "needs_background": "light"
     },
     "output_type": "display_data"
    }
   ],
   "source": [
    "w, b, costs, pred = binaryclass_model(X_train[:,:1000], Y_train[:,:1000].astype(float), 0, 1000, 0.01, True)"
   ]
  },
  {
   "cell_type": "code",
   "execution_count": 23,
   "metadata": {},
   "outputs": [],
   "source": [
    "### sample test"
   ]
  },
  {
   "cell_type": "code",
   "execution_count": 24,
   "metadata": {},
   "outputs": [],
   "source": [
    "def multiclass_model(X, Y, num_iterations, learning_rate, isPlot):\n",
    "    models = []\n",
    "    for i in range(1, 10):\n",
    "        print(\"Generating Model for number \" + str(i) + \":\")\n",
    "        w, b, costs, pred = binaryclass_model(X, Y, i, num_iterations, learning_rate, isPlot)\n",
    "        print(\"Last Gradient Cost: \" + str(costs[-1]) + \"\\n\")\n",
    "        models.append(np.array([w, b])) #specific model weight added\n",
    "    return models"
   ]
  },
  {
   "cell_type": "code",
   "execution_count": 25,
   "metadata": {
    "scrolled": false
   },
   "outputs": [
    {
     "name": "stdout",
     "output_type": "stream",
     "text": [
      "Generating Model for number 1:\n"
     ]
    },
    {
     "data": {
      "image/png": "[encoded data removed]",
      "text/plain": [
       "<Figure size 432x288 with 1 Axes>"
      ]
     },
     "metadata": {
      "needs_background": "light"
     },
     "output_type": "display_data"
    },
    {
     "name": "stdout",
     "output_type": "stream",
     "text": [
      "Last Gradient Cost: 0.0434218540526546\n",
      "\n",
      "Generating Model for number 2:\n"
     ]
    },
    {
     "data": {
      "image/png": "[encoded data removed]",
      "text/plain": [
       "<Figure size 432x288 with 1 Axes>"
      ]
     },
     "metadata": {
      "needs_background": "light"
     },
     "output_type": "display_data"
    },
    {
     "name": "stdout",
     "output_type": "stream",
     "text": [
      "Last Gradient Cost: 0.08658961179239275\n",
      "\n",
      "Generating Model for number 3:\n"
     ]
    },
    {
     "data": {
      "image/png": "[encoded data removed]",
      "text/plain": [
       "<Figure size 432x288 with 1 Axes>"
      ]
     },
     "metadata": {
      "needs_background": "light"
     },
     "output_type": "display_data"
    },
    {
     "name": "stdout",
     "output_type": "stream",
     "text": [
      "Last Gradient Cost: 0.09400039918743927\n",
      "\n",
      "Generating Model for number 4:\n"
     ]
    },
    {
     "data": {
      "image/png": "[encoded data removed]",
      "text/plain": [
       "<Figure size 432x288 with 1 Axes>"
      ]
     },
     "metadata": {
      "needs_background": "light"
     },
     "output_type": "display_data"
    },
    {
     "name": "stdout",
     "output_type": "stream",
     "text": [
      "Last Gradient Cost: 0.07402484184146489\n",
      "\n",
      "Generating Model for number 5:\n"
     ]
    },
    {
     "data": {
      "image/png": "[encoded data removed]",
      "text/plain": [
       "<Figure size 432x288 with 1 Axes>"
      ]
     },
     "metadata": {
      "needs_background": "light"
     },
     "output_type": "display_data"
    },
    {
     "name": "stdout",
     "output_type": "stream",
     "text": [
      "Last Gradient Cost: 0.11782741343178173\n",
      "\n",
      "Generating Model for number 6:\n"
     ]
    },
    {
     "data": {
      "image/png": "[encoded data removed]",
      "text/plain": [
       "<Figure size 432x288 with 1 Axes>"
      ]
     },
     "metadata": {
      "needs_background": "light"
     },
     "output_type": "display_data"
    },
    {
     "name": "stdout",
     "output_type": "stream",
     "text": [
      "Last Gradient Cost: 0.05382430221061373\n",
      "\n",
      "Generating Model for number 7:\n"
     ]
    },
    {
     "data": {
      "image/png": "[encoded data removed]",
      "text/plain": [
       "<Figure size 432x288 with 1 Axes>"
      ]
     },
     "metadata": {
      "needs_background": "light"
     },
     "output_type": "display_data"
    },
    {
     "name": "stdout",
     "output_type": "stream",
     "text": [
      "Last Gradient Cost: 0.06429062819646539\n",
      "\n",
      "Generating Model for number 8:\n"
     ]
    },
    {
     "data": {
      "image/png": "[encoded data removed]",
      "text/plain": [
       "<Figure size 432x288 with 1 Axes>"
      ]
     },
     "metadata": {
      "needs_background": "light"
     },
     "output_type": "display_data"
    },
    {
     "name": "stdout",
     "output_type": "stream",
     "text": [
      "Last Gradient Cost: 0.1257808303564032\n",
      "\n",
      "Generating Model for number 9:\n"
     ]
    },
    {
     "data": {
      "image/png": "[encoded data removed]",
      "text/plain": [
       "<Figure size 432x288 with 1 Axes>"
      ]
     },
     "metadata": {
      "needs_background": "light"
     },
     "output_type": "display_data"
    },
    {
     "name": "stdout",
     "output_type": "stream",
     "text": [
      "Last Gradient Cost: 0.1197501872227039\n",
      "\n"
     ]
    }
   ],
   "source": [
    "mClass_model = multiclass_model(X_train, Y_train.astype(float), 1000, 0.005, True)"
   ]
  },
  {
   "cell_type": "code",
   "execution_count": 26,
   "metadata": {},
   "outputs": [],
   "source": [
    "def multiclass_predict_naive(models, X):\n",
    "    number_scores = []\n",
    "    for i, mClass in enumerate(models):\n",
    "        w, b = mClass[0], mClass[1]\n",
    "        sig_score = calculate_sig_score(w, b, X)\n",
    "        number_scores.append(sig_score)\n",
    "    return np.array(number_scores)"
   ]
  },
  {
   "cell_type": "code",
   "execution_count": 27,
   "metadata": {},
   "outputs": [],
   "source": [
    "def multiclass_predict(models, X, Y):\n",
    "    Y_predict = multiclass_predict_naive(models, X)\n",
    "    prediction_accuracy = 100 - np.mean(np.abs(Y_predict - Y)) * 100\n",
    "    return prediction_accuracy, Y_predict"
   ]
  },
  {
   "cell_type": "code",
   "execution_count": 29,
   "metadata": {},
   "outputs": [],
   "source": [
    "acc, y_pred = multiclass_predict(mClass_model, X_train, Y_train.astype(float))"
   ]
  },
  {
   "cell_type": "code",
   "execution_count": 32,
   "metadata": {},
   "outputs": [
    {
     "name": "stdout",
     "output_type": "stream",
     "text": [
      "Predicted for 1: 5474\n",
      "Actual # for 1: 5514\n",
      "Predicted for 2: 4029\n",
      "Actual # for 2: 4893\n",
      "Predicted for 3: 4143\n",
      "Actual # for 3: 4999\n",
      "Predicted for 4: 4192\n",
      "Actual # for 4: 4777\n",
      "Predicted for 5: 3109\n",
      "Actual # for 5: 4419\n",
      "Predicted for 6: 4464\n",
      "Actual # for 6: 4813\n",
      "Predicted for 7: 4611\n",
      "Actual # for 7: 5105\n",
      "Predicted for 8: 3566\n",
      "Actual # for 8: 4777\n",
      "Predicted for 9: 3889\n",
      "Actual # for 9: 4871\n",
      "Total misclassified:  6691\n"
     ]
    }
   ],
   "source": [
    "misclassified = 0\n",
    "for i, results in enumerate(y_pred):\n",
    "    print(\"Predicted for \" + str(i+1) + \": \" + str(np.where(y_pred[i] > 0.5)[1].shape[0]))\n",
    "    print(\"Actual # for \" + str(i+1) + \": \" + str(np.where(Y_train == i+1)[1].shape[0]))\n",
    "    misclassified += abs(np.where(y_pred[i] > 0.5)[1].shape[0] - np.where(Y_train == i+1)[1].shape[0])\n",
    "print(\"Total misclassified: \", misclassified)"
   ]
  },
  {
   "cell_type": "code",
   "execution_count": 37,
   "metadata": {},
   "outputs": [],
   "source": [
    "### Accuracy ~0.86"
   ]
  },
  {
   "cell_type": "code",
   "execution_count": 38,
   "metadata": {},
   "outputs": [],
   "source": [
    "### Testing Set"
   ]
  },
  {
   "cell_type": "code",
   "execution_count": 42,
   "metadata": {},
   "outputs": [],
   "source": [
    "test_files = pd.read_csv(\"Test_fCbTej3_0j1gHmj.csv\")"
   ]
  },
  {
   "cell_type": "code",
   "execution_count": 55,
   "metadata": {},
   "outputs": [],
   "source": [
    "TABLE_TEST = np.array(test_files.iloc[0:-1])"
   ]
  },
  {
   "cell_type": "code",
   "execution_count": 61,
   "metadata": {},
   "outputs": [],
   "source": [
    "X_test = TABLE_TEST[:, np.r_[0]]\n",
    "data_test = extract_img(\"Images/test/\", X_test.flatten('C'))"
   ]
  },
  {
   "cell_type": "code",
   "execution_count": 62,
   "metadata": {},
   "outputs": [],
   "source": [
    "X_test = ndarray_proccessing(data_test)\n",
    "X_test = X_test.T"
   ]
  },
  {
   "cell_type": "code",
   "execution_count": 63,
   "metadata": {},
   "outputs": [
    {
     "data": {
      "text/plain": [
       "(3136, 20999)"
      ]
     },
     "execution_count": 63,
     "metadata": {},
     "output_type": "execute_result"
    }
   ],
   "source": [
    "X_test.shape"
   ]
  },
  {
   "cell_type": "code",
   "execution_count": 64,
   "metadata": {},
   "outputs": [],
   "source": [
    "test_scores = multiclass_predict_naive(mClass_model, X_test)"
   ]
  },
  {
   "cell_type": "code",
   "execution_count": 73,
   "metadata": {},
   "outputs": [
    {
     "data": {
      "text/plain": [
       "(9, 1, 20999)"
      ]
     },
     "execution_count": 73,
     "metadata": {},
     "output_type": "execute_result"
    }
   ],
   "source": [
    "test_scores.shape"
   ]
  },
  {
   "cell_type": "code",
   "execution_count": 111,
   "metadata": {},
   "outputs": [
    {
     "name": "stdout",
     "output_type": "stream",
     "text": [
      "1 2367\n",
      "2 1683\n",
      "3 1771\n",
      "4 1776\n",
      "5 1387\n",
      "6 1934\n",
      "7 1987\n",
      "8 1496\n",
      "9 1644\n",
      "0 4954\n"
     ]
    }
   ],
   "source": [
    "score = 0\n",
    "for i in range(len(test_scores)):\n",
    "    classified = np.where(test_scores[i][0] >= 0.5)[0].shape[0]\n",
    "    print(i+1, classified)\n",
    "    score += classified\n",
    "curr = X_test.shape[1] - score\n",
    "print(0, curr)"
   ]
  },
  {
   "cell_type": "code",
   "execution_count": 137,
   "metadata": {},
   "outputs": [],
   "source": [
    "def real_life_img(path):\n",
    "    img = Image.open(path)\n",
    "    img = img.resize((28, 28), Image.ANTIALIAS)\n",
    "    return np.array(img)"
   ]
  },
  {
   "cell_type": "code",
   "execution_count": 138,
   "metadata": {},
   "outputs": [],
   "source": [
    "one = real_life_img(\"Images/real_life/1.PNG\")\n",
    "six = real_life_img(\"Images/real_life/6.PNG\")\n",
    "two = real_life_img(\"Images/real_life/2.PNG\")\n",
    "egt = real_life_img(\"Images/real_life/8.PNG\")"
   ]
  },
  {
   "cell_type": "code",
   "execution_count": 146,
   "metadata": {},
   "outputs": [],
   "source": [
    "X_real_life = ndarray_proccessing([one, six, two, egt])"
   ]
  },
  {
   "cell_type": "code",
   "execution_count": 147,
   "metadata": {},
   "outputs": [],
   "source": [
    "X_real_life = X_real_life.T"
   ]
  },
  {
   "cell_type": "code",
   "execution_count": null,
   "metadata": {},
   "outputs": [],
   "source": []
  },
  {
   "cell_type": "code",
   "execution_count": 150,
   "metadata": {},
   "outputs": [],
   "source": [
    "results_real_life = multiclass_predict_naive(mClass_model, X_real_life)"
   ]
  },
  {
   "cell_type": "code",
   "execution_count": 164,
   "metadata": {},
   "outputs": [
    {
     "data": {
      "text/plain": [
       "3"
      ]
     },
     "execution_count": 164,
     "metadata": {},
     "output_type": "execute_result"
    }
   ],
   "source": [
    "np.where(results_real_life[6][0] >= 0.5)[0].shape[0]"
   ]
  },
  {
   "cell_type": "code",
   "execution_count": 154,
   "metadata": {},
   "outputs": [
    {
     "data": {
      "text/plain": [
       "1"
      ]
     },
     "execution_count": 154,
     "metadata": {},
     "output_type": "execute_result"
    }
   ],
   "source": []
  },
  {
   "cell_type": "code",
   "execution_count": null,
   "metadata": {},
   "outputs": [],
   "source": []
  }
 ],
 "metadata": {
  "kernelspec": {
   "display_name": "Python 3",
   "language": "python",
   "name": "python3"
  },
  "language_info": {
   "codemirror_mode": {
    "name": "ipython",
    "version": 3
   },
   "file_extension": ".py",
   "mimetype": "text/x-python",
   "name": "python",
   "nbconvert_exporter": "python",
   "pygments_lexer": "ipython3",
   "version": "3.7.3"
  }
 },
 "nbformat": 4,
 "nbformat_minor": 2
}
