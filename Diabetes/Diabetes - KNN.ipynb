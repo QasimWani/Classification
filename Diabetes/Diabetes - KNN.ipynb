{
 "cells": [
  {
   "cell_type": "code",
   "execution_count": 166,
   "metadata": {},
   "outputs": [],
   "source": [
    "import numpy as np\n",
    "import pandas as pd\n",
    "import matplotlib.pyplot as plt\n",
    "import sklearn.model_selection as skl"
   ]
  },
  {
   "cell_type": "code",
   "execution_count": 167,
   "metadata": {},
   "outputs": [],
   "source": [
    "# Importing the data\n",
    "# Let's assume 1 = Diabetes and 0 = no diabetes\n",
    "df = pd.read_csv('diabetes.csv')\n",
    "# df.head()\n",
    "\n",
    "# data pre-processing\n",
    "\n",
    "# Setting the dependent variable (Y):\n",
    "y = df.iloc[:,-1]\n",
    "X = df.iloc[:,:-1]\n",
    "\n",
    "column_names = np.array(df.columns)\n",
    "\n",
    "# Splitting the data into training and testing sets\n",
    "X_train, X_test, y_train, y_test = skl.train_test_split(X, y, test_size=0.3, random_state=42)"
   ]
  },
  {
   "cell_type": "code",
   "execution_count": 168,
   "metadata": {},
   "outputs": [],
   "source": [
    "### Since we can't technically visualize a 9D graph, (well we can using a 2D comparator matrix for all dimensions)\n",
    "# Hence, no data visualization.\n",
    "# So, let's just start coding the KNN"
   ]
  },
  {
   "cell_type": "code",
   "execution_count": 169,
   "metadata": {},
   "outputs": [],
   "source": [
    "def calculate_euclidean_distance(point, dataset):\n",
    "    peer_point_dist = []\n",
    "    ind_dist = 0\n",
    "    for rows in dataset:\n",
    "        for i in range(len(rows)):\n",
    "            ind_dist += (rows[i] - point[i])**2\n",
    "        ind_dist = ind_dist**0.5\n",
    "        peer_point_dist.append(ind_dist)\n",
    "        ind_dist = 0\n",
    "    return peer_point_dist"
   ]
  },
  {
   "cell_type": "code",
   "execution_count": 170,
   "metadata": {},
   "outputs": [],
   "source": [
    "def create_resulting_dataframe(data, columns, sort_by):\n",
    "    new_dataframe = pd.DataFrame(data=data, columns=columns)\n",
    "    df = new_dataframe.sort_values(by=sort_by)\n",
    "    return df"
   ]
  },
  {
   "cell_type": "code",
   "execution_count": 171,
   "metadata": {},
   "outputs": [],
   "source": [
    "def custom_knn(dataframe, k, outcome):\n",
    "    df = dataframe.head(k)[outcome]\n",
    "    return df"
   ]
  },
  {
   "cell_type": "code",
   "execution_count": 172,
   "metadata": {},
   "outputs": [],
   "source": [
    "def voting_system(outputs, check_for_0, check_for_1):\n",
    "    vote_0 = 0\n",
    "    vote_1 = 0\n",
    "    for result in outputs:\n",
    "        if(result == check_for_0):\n",
    "            vote_0 += 1\n",
    "        else:\n",
    "            vote_1 += 1\n",
    "    print(\"Output {0} with votes : {1}\".format(check_for_0, vote_0))\n",
    "    print(\"Output {0} with votes : {1}\".format(check_for_1, vote_1))\n",
    "    if(vote_0 > vote_1):\n",
    "        return check_for_0\n",
    "    return check_for_1"
   ]
  },
  {
   "cell_type": "code",
   "execution_count": 173,
   "metadata": {},
   "outputs": [],
   "source": [
    "def cross_validation_result(cross_validation, X_all, Y_all):\n",
    "    result = []\n",
    "    for k in range(1, cross_validation):\n",
    "        res = main(k, 'train', X_all, Y_all)\n",
    "        result.append((res, k))\n",
    "    return result"
   ]
  },
  {
   "cell_type": "code",
   "execution_count": 228,
   "metadata": {},
   "outputs": [],
   "source": [
    "def diabetes(X_data, y_data, i):\n",
    "    X_train = np.array(X_data)\n",
    "    y_train = np.array(y_data)\n",
    "\n",
    "\n",
    "    actual_result = y_train[i]\n",
    "    point = np.delete(X_train, i, 0)\n",
    "    distance = calculate_euclidean_distance(X_train[i], X_train)\n",
    "\n",
    "    new_X = np.insert(X_train, 0, values=distance, axis=1)\n",
    "    new_X = np.insert(new_X, 9, values=y_train, axis=1)\n",
    "    new_column_names = np.insert(column_names,0, values='Euclidean Distance', axis=0)\n",
    "    output = create_resulting_dataframe(new_X, new_column_names, ['Euclidean Distance'])\n",
    "\n",
    "\n",
    "\n",
    "    k = 48\n",
    "    if(k%2 == 0):\n",
    "        k += 1\n",
    "    vals = custom_knn(output, k, 'Outcome')\n",
    "    vals = np.array(vals)\n",
    "\n",
    "    final_answer = voting_system(vals, 0, 1)\n",
    "    if(final_answer == actual_result):\n",
    "        print(\"\\nResult matches label : \",1) #This means k value is correct.\n",
    "    else:\n",
    "        print(\"\\nResult DOESN'T match label : \",0) #this means k value is incorrect\n",
    "    if(final_answer == 0):\n",
    "        print(\"\\nCongratulations! You don't have diabetes\")\n",
    "    else:\n",
    "        print(\"\\nSorry, you have diabetes!\")\n",
    "        \n",
    "    return output.head()\n"
   ]
  },
  {
   "cell_type": "code",
   "execution_count": 230,
   "metadata": {},
   "outputs": [
    {
     "name": "stdout",
     "output_type": "stream",
     "text": [
      "Output 0 with votes : 33\n",
      "Output 1 with votes : 16\n",
      "\n",
      "Result matches label :  1\n",
      "\n",
      "Congratulations! You don't have diabetes\n"
     ]
    },
    {
     "data": {
      "text/html": [
       "<div>\n",
       "<style scoped>\n",
       "    .dataframe tbody tr th:only-of-type {\n",
       "        vertical-align: middle;\n",
       "    }\n",
       "\n",
       "    .dataframe tbody tr th {\n",
       "        vertical-align: top;\n",
       "    }\n",
       "\n",
       "    .dataframe thead th {\n",
       "        text-align: right;\n",
       "    }\n",
       "</style>\n",
       "<table border=\"1\" class=\"dataframe\">\n",
       "  <thead>\n",
       "    <tr style=\"text-align: right;\">\n",
       "      <th></th>\n",
       "      <th>Euclidean Distance</th>\n",
       "      <th>Pregnancies</th>\n",
       "      <th>Glucose</th>\n",
       "      <th>BloodPressure</th>\n",
       "      <th>SkinThickness</th>\n",
       "      <th>Insulin</th>\n",
       "      <th>BMI</th>\n",
       "      <th>DiabetesPedigreeFunction</th>\n",
       "      <th>Age</th>\n",
       "      <th>Outcome</th>\n",
       "    </tr>\n",
       "  </thead>\n",
       "  <tbody>\n",
       "    <tr>\n",
       "      <th>123</th>\n",
       "      <td>0.000000</td>\n",
       "      <td>4.0</td>\n",
       "      <td>127.0</td>\n",
       "      <td>88.0</td>\n",
       "      <td>11.0</td>\n",
       "      <td>155.0</td>\n",
       "      <td>34.5</td>\n",
       "      <td>0.598</td>\n",
       "      <td>28.0</td>\n",
       "      <td>0.0</td>\n",
       "    </tr>\n",
       "    <tr>\n",
       "      <th>376</th>\n",
       "      <td>12.104664</td>\n",
       "      <td>7.0</td>\n",
       "      <td>133.0</td>\n",
       "      <td>88.0</td>\n",
       "      <td>15.0</td>\n",
       "      <td>155.0</td>\n",
       "      <td>32.4</td>\n",
       "      <td>0.262</td>\n",
       "      <td>37.0</td>\n",
       "      <td>0.0</td>\n",
       "    </tr>\n",
       "    <tr>\n",
       "      <th>441</th>\n",
       "      <td>22.848151</td>\n",
       "      <td>1.0</td>\n",
       "      <td>117.0</td>\n",
       "      <td>88.0</td>\n",
       "      <td>24.0</td>\n",
       "      <td>145.0</td>\n",
       "      <td>34.5</td>\n",
       "      <td>0.403</td>\n",
       "      <td>40.0</td>\n",
       "      <td>1.0</td>\n",
       "    </tr>\n",
       "    <tr>\n",
       "      <th>478</th>\n",
       "      <td>24.068112</td>\n",
       "      <td>4.0</td>\n",
       "      <td>123.0</td>\n",
       "      <td>80.0</td>\n",
       "      <td>15.0</td>\n",
       "      <td>176.0</td>\n",
       "      <td>32.0</td>\n",
       "      <td>0.443</td>\n",
       "      <td>34.0</td>\n",
       "      <td>0.0</td>\n",
       "    </tr>\n",
       "    <tr>\n",
       "      <th>3</th>\n",
       "      <td>25.281453</td>\n",
       "      <td>4.0</td>\n",
       "      <td>131.0</td>\n",
       "      <td>68.0</td>\n",
       "      <td>21.0</td>\n",
       "      <td>166.0</td>\n",
       "      <td>33.1</td>\n",
       "      <td>0.160</td>\n",
       "      <td>28.0</td>\n",
       "      <td>0.0</td>\n",
       "    </tr>\n",
       "  </tbody>\n",
       "</table>\n",
       "</div>"
      ],
      "text/plain": [
       "     Euclidean Distance  Pregnancies  Glucose  BloodPressure  SkinThickness  \\\n",
       "123            0.000000          4.0    127.0           88.0           11.0   \n",
       "376           12.104664          7.0    133.0           88.0           15.0   \n",
       "441           22.848151          1.0    117.0           88.0           24.0   \n",
       "478           24.068112          4.0    123.0           80.0           15.0   \n",
       "3             25.281453          4.0    131.0           68.0           21.0   \n",
       "\n",
       "     Insulin   BMI  DiabetesPedigreeFunction   Age  Outcome  \n",
       "123    155.0  34.5                     0.598  28.0      0.0  \n",
       "376    155.0  32.4                     0.262  37.0      0.0  \n",
       "441    145.0  34.5                     0.403  40.0      1.0  \n",
       "478    176.0  32.0                     0.443  34.0      0.0  \n",
       "3      166.0  33.1                     0.160  28.0      0.0  "
      ]
     },
     "execution_count": 230,
     "metadata": {},
     "output_type": "execute_result"
    }
   ],
   "source": [
    "diabetes(X_train, y_train, 123)"
   ]
  }
 ],
 "metadata": {
  "kernelspec": {
   "display_name": "Python 3",
   "language": "python",
   "name": "python3"
  },
  "language_info": {
   "codemirror_mode": {
    "name": "ipython",
    "version": 3
   },
   "file_extension": ".py",
   "mimetype": "text/x-python",
   "name": "python",
   "nbconvert_exporter": "python",
   "pygments_lexer": "ipython3",
   "version": "3.7.3"
  }
 },
 "nbformat": 4,
 "nbformat_minor": 2
}
